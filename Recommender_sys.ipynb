{
  "cells": [
    {
      "attachments": {},
      "cell_type": "markdown",
      "metadata": {
        "id": "JlU07CPQ3qSk"
      },
      "source": [
        "혼잡한 관광지 발생시, 혼잡하지 않은 곳을 방문하기 원하는 수요를 위해 유사한 관광지 10곳을 추천하고자 함\n",
        "\n",
        "한국관광공사에서 운영하는 '대한민국 구석구석'에서(https://korean.visitkorea.or.kr/search/search_list.do?keyword=%EC%A0%9C%EC%A3%BC%EB%8F%84) 제공하고 있는 관광지별 관련 카테고리 데이터를 수집한 다음 이를 이용해 문서유사도 측정을 통해 10곳을 추천하고자 함\n",
        "\n",
        "[데이터셋 변수 설명]\n",
        "- mecab : Mecab 라이브러리를 활용하기 위한 객체 생성\n",
        "- file_data : 작성한 사용자 사전 파일을 읽어 Colab 환경에 설치된 Mecab 라이브러리에 추가하기 위한 변수, 한 줄 씩 읽옴\n",
        "- poi : 관광지별 관련 카테고리를 저장한 데이터 셋\n",
        "- stop_words : 의미 분석에 방해가 되는 불용어를 지정한 문자열\n",
        "- vectorizer : \bTf-idf 방식으로 벡터화\n",
        "- cosine_sim : 코사인 유사도를 sklearn 라이브러리를 통해 구하기 위해 cosine_similarity 객체를 생성하기 위한 변수\n",
        "- indices : 관광지명 순서별로 인덱스를 지정하기위해 Series 형태로 저장하기 위한 변수\n",
        "- get_recommendation : 관광지명을 입력하면 유사한 10가지 관광지를 추천해주기 위한 함수\n",
        "\n",
        "[전처리 과정 설명] \n",
        "- 대한민국 구석구석에서 제공하는 관광지별 카테고리를 Jeju_POI_withexplanation.xslx 로 저장함\n",
        "- 해당 데이터의 전처리를 위해 Mecab의 기존 형태소 분석 결과를 확인하고 인생 샷(-> 인생샷)과 같이 의미를 이루기 위해서 묶여야할 음절들을 하나의 단어로 묶기 위한 사용자 사전을 작성함\n",
        "- 불용어를 추가하고 사용자 사전을 사용했음에도 묶이지 않은 단어를 확인하여 추가적인 전처리 과정을 마침\n",
        "\n",
        "[추천 시스템 구축 프로세스]\n",
        "1. 관광지별 카테고리 데이터 수집\n",
        "2. 전처리를 위한 사용자 사전 구축\n",
        "3. Mecab 라이브러리를 활용한 자연어 처리\n",
        "4. TF-IDF Vectorizor를 활용해, 문서유사도 기반 유사 관광지 추천\n",
        "\n",
        "[기타 데이터 관련 설명]\n",
        "- 대한민국 구석구석에서 제공하고 있는 카테고리 데이터는 한국관광공사에서 연관 단어 등을 수집하여 카테고리화한 것임"
      ]
    },
    {
      "cell_type": "code",
      "execution_count": null,
      "metadata": {
        "id": "i8fOh8raI2tS",
        "vscode": {
          "languageId": "python"
        }
      },
      "outputs": [],
      "source": [
        "# Mecab-ko 설치를 위한 깃 클론\n",
        "!git clone https://github.com/SOMJANG/Mecab-ko-for-Google-Colab.git"
      ]
    },
    {
      "cell_type": "code",
      "execution_count": null,
      "metadata": {
        "colab": {
          "base_uri": "https://localhost:8080/"
        },
        "id": "_K-UoezDJLsp",
        "outputId": "03d2bff0-5c39-44f1-e855-3475635a7188",
        "vscode": {
          "languageId": "python"
        }
      },
      "outputs": [],
      "source": [
        "cd Mecab-ko-for-Google-Colab/"
      ]
    },
    {
      "cell_type": "code",
      "execution_count": null,
      "metadata": {
        "colab": {
          "base_uri": "https://localhost:8080/"
        },
        "id": "TAzrrPx_JOpt",
        "outputId": "b5581b06-ba68-4ea1-c5b1-a1c974bf936f",
        "vscode": {
          "languageId": "python"
        }
      },
      "outputs": [],
      "source": [
        "# JPype1, konlpy 설치\n",
        "!bash ./install_mecab-ko_on_colab190912.sh"
      ]
    },
    {
      "cell_type": "code",
      "execution_count": null,
      "metadata": {
        "id": "yMLcxnnMJTjO",
        "vscode": {
          "languageId": "python"
        }
      },
      "outputs": [],
      "source": [
        "# Mecab 라이브러리 테스트\n",
        "from konlpy.tag import Mecab\n",
        "mecab = Mecab()"
      ]
    },
    {
      "cell_type": "code",
      "execution_count": null,
      "metadata": {
        "colab": {
          "base_uri": "https://localhost:8080/"
        },
        "id": "stWGFhGqKMzK",
        "outputId": "9b400968-568e-4811-dab8-37dd5dc173b2",
        "vscode": {
          "languageId": "python"
        }
      },
      "outputs": [],
      "source": [
        "mecab.pos(\"헬로키티아일랜드 인생샷\")"
      ]
    },
    {
      "cell_type": "code",
      "execution_count": null,
      "metadata": {
        "colab": {
          "base_uri": "https://localhost:8080/"
        },
        "id": "3Zs5sPKDKOGx",
        "outputId": "305e4f64-8cec-4fd9-f588-2944139e5961",
        "vscode": {
          "languageId": "python"
        }
      },
      "outputs": [],
      "source": [
        "cd /content/"
      ]
    },
    {
      "cell_type": "code",
      "execution_count": null,
      "metadata": {
        "colab": {
          "base_uri": "https://localhost:8080/"
        },
        "id": "CpFGkBONKWdE",
        "outputId": "3de8abc2-180f-4702-bea5-82b48a0d1e73",
        "vscode": {
          "languageId": "python"
        }
      },
      "outputs": [],
      "source": [
        "cd mecab-ko-dic-2.1.1-20180720/"
      ]
    },
    {
      "cell_type": "code",
      "execution_count": null,
      "metadata": {
        "colab": {
          "base_uri": "https://localhost:8080/"
        },
        "id": "J-X01i67LMVe",
        "outputId": "b7e95cb8-5dbc-4142-cab8-d663ef041e79",
        "vscode": {
          "languageId": "python"
        }
      },
      "outputs": [],
      "source": [
        "ls user-dic"
      ]
    },
    {
      "cell_type": "code",
      "execution_count": null,
      "metadata": {
        "colab": {
          "base_uri": "https://localhost:8080/",
          "height": 81
        },
        "id": "9UitfnZzLXyw",
        "outputId": "9acf99fe-3e22-48a6-e75e-6e4fe3f38e53",
        "vscode": {
          "languageId": "python"
        }
      },
      "outputs": [],
      "source": [
        "# 사용자 사전 구성 확인\n",
        "import pandas as pd\n",
        "\n",
        "pd.read_csv(\"./user-dic/nnp.csv\")"
      ]
    },
    {
      "cell_type": "code",
      "execution_count": null,
      "metadata": {
        "id": "n9lGT2gonhCv",
        "vscode": {
          "languageId": "python"
        }
      },
      "outputs": [],
      "source": [
        "from konlpy.tag import Mecab\n",
        "\n",
        "mecab = Mecab()\n"
      ]
    },
    {
      "cell_type": "code",
      "execution_count": null,
      "metadata": {
        "id": "dVgIt5T7LcXM",
        "vscode": {
          "languageId": "python"
        }
      },
      "outputs": [],
      "source": [
        "# 사용자 사전 구성을 위해 형태를 확인\n",
        "with open(\"./user-dic/nnp.csv\", 'r', encoding='utf-8') as f:\n",
        "  file_data = f.readlines()"
      ]
    },
    {
      "cell_type": "code",
      "execution_count": null,
      "metadata": {
        "colab": {
          "base_uri": "https://localhost:8080/"
        },
        "id": "abd6Ldpyldj2",
        "outputId": "1a21b99a-f122-4fe9-db54-241c169f27ba",
        "vscode": {
          "languageId": "python"
        }
      },
      "outputs": [],
      "source": [
        "file_data"
      ]
    },
    {
      "cell_type": "code",
      "execution_count": null,
      "metadata": {
        "colab": {
          "base_uri": "https://localhost:8080/"
        },
        "id": "GxnqoK22lfOp",
        "outputId": "5fbe85c6-57cd-40c6-880c-840a987debb2",
        "vscode": {
          "languageId": "python"
        }
      },
      "outputs": [],
      "source": [
        "len(file_data[0].split(\",\")), len(file_data[1].split(\",\"))"
      ]
    },
    {
      "cell_type": "code",
      "execution_count": null,
      "metadata": {
        "id": "QiX3-MpJLF9r",
        "vscode": {
          "languageId": "python"
        }
      },
      "outputs": [],
      "source": [
        "word_list = pd.read_csv('/content/nnp.csv')['대우']\n"
      ]
    },
    {
      "cell_type": "code",
      "execution_count": null,
      "metadata": {
        "id": "xz4_cAcSlov6",
        "vscode": {
          "languageId": "python"
        }
      },
      "outputs": [],
      "source": [
        "# 기존의 형태소 분석 양상을 확인한 다음, 의도하지 않은 방식으로 단어가 분할된 경우 사용자 사전에 추가함으로 개선\n",
        "\n",
        "with open(\"./user-dic/nnp.csv\", 'r', encoding='utf-8') as f:\n",
        "  file_data = f.readlines()\n",
        "\n",
        "word_list = pd.read_csv('/content/nnp.csv')['대우']\n",
        "\n",
        "for word in word_list:\n",
        "  line = '{},,,,NNP,*,{},{},*,*,*,*,*\\n'.format(word, 'T', word)\n",
        "  file_data.append(line)"
      ]
    },
    {
      "cell_type": "code",
      "execution_count": null,
      "metadata": {
        "colab": {
          "base_uri": "https://localhost:8080/"
        },
        "id": "hdDUR5_onOV9",
        "outputId": "d9527ab6-bfc5-4375-b2fa-42bf17d3a500",
        "vscode": {
          "languageId": "python"
        }
      },
      "outputs": [],
      "source": [
        "file_data"
      ]
    },
    {
      "cell_type": "code",
      "execution_count": null,
      "metadata": {
        "id": "NTU5Gz1qnPmT",
        "vscode": {
          "languageId": "python"
        }
      },
      "outputs": [],
      "source": [
        "with open(\"./user-dic/nnp.csv\", 'w', encoding='utf-8') as f:\n",
        "  for line in file_data:\n",
        "    f.write(line)"
      ]
    },
    {
      "cell_type": "code",
      "execution_count": null,
      "metadata": {
        "colab": {
          "base_uri": "https://localhost:8080/"
        },
        "id": "LG6ZY2WZnb4a",
        "outputId": "1e528b04-9e4b-488f-8ba9-3cc5c9e6ad11",
        "vscode": {
          "languageId": "python"
        }
      },
      "outputs": [],
      "source": [
        "with open(\"./user-dic/nnp.csv\", 'r', encoding='utf-8') as f:\n",
        "  file_new = f.readlines()\n",
        "file_new"
      ]
    },
    {
      "cell_type": "code",
      "execution_count": null,
      "metadata": {
        "colab": {
          "base_uri": "https://localhost:8080/"
        },
        "id": "umUu6egvpLb6",
        "outputId": "867c9fd4-9fa4-4b9c-8793-15150fc6a93f",
        "vscode": {
          "languageId": "python"
        }
      },
      "outputs": [],
      "source": [
        "# 작성한 사용자 사전을 반영\n",
        "!bash ./tools/add-userdic.sh"
      ]
    },
    {
      "cell_type": "code",
      "execution_count": null,
      "metadata": {
        "colab": {
          "base_uri": "https://localhost:8080/"
        },
        "id": "lV_tqW2grS5a",
        "outputId": "777034a6-b5e0-4a9f-cecc-cd26ddee4eaa",
        "vscode": {
          "languageId": "python"
        }
      },
      "outputs": [],
      "source": [
        "!make install"
      ]
    },
    {
      "cell_type": "code",
      "execution_count": null,
      "metadata": {
        "colab": {
          "base_uri": "https://localhost:8080/"
        },
        "id": "85oiE9DTpTP1",
        "outputId": "1647da07-4881-4289-f22b-d38b525f90dc",
        "vscode": {
          "languageId": "python"
        }
      },
      "outputs": [],
      "source": [
        "# 사용자 사전을 반영한 Mecab 객체를 다시 생성\n",
        "from konlpy.tag import Mecab\n",
        "\n",
        "mecab = Mecab()\n",
        "\n",
        "for word in word_list:\n",
        "  print(mecab.pos(word))"
      ]
    },
    {
      "cell_type": "code",
      "execution_count": null,
      "metadata": {
        "colab": {
          "base_uri": "https://localhost:8080/"
        },
        "id": "uI92bMsopVgt",
        "outputId": "fa6cf326-c136-44ff-b1a6-82e8918f33eb",
        "vscode": {
          "languageId": "python"
        }
      },
      "outputs": [],
      "source": [
        "# 형태소 분석이 의도한대로 이뤄지는지 확인\n",
        "mecab.pos(\"헬로키티아일랜드 인생샷\")"
      ]
    },
    {
      "cell_type": "code",
      "execution_count": null,
      "metadata": {
        "id": "CNdlYl1axPhR",
        "vscode": {
          "languageId": "python"
        }
      },
      "outputs": [],
      "source": [
        "# 관광지별로 카테고리화된 단어 리스트를 Jeju_POI_withexplanation 파일로 저장(출처 : 대한민국 구석구석 https://korean.visitkorea.or.kr/search/search_list.do?keyword=%EC%A0%9C%EC%A3%BC%EB%8F%84)\n",
        "# 유사도를 측정하기 위해 DataFrame 형식으로 저장\n",
        "\n",
        "poi = pd.read_excel(\"/content/Jeju_POI_withexplanation (3).xlsx\")\n",
        "poi = poi[['poi','explanation']]\n",
        "exp_list = poi.explanation.tolist()\n"
      ]
    },
    {
      "cell_type": "code",
      "execution_count": null,
      "metadata": {
        "id": "oqZ_Zj-WQu5f",
        "vscode": {
          "languageId": "python"
        }
      },
      "outputs": [],
      "source": [
        "# 불용어 지정, 유사도 분석에 방해되는 단어들 제외\n",
        "stop_words = '관광지, 대한민국, 캠페인, 제주, 제주도, 여행, 좋다, 가보다, 하다, 살다, 크다, 헬로키티아일랜드, 엉알, 서귀포김정희, 안덕, 혼인지, 랜드, 쌍용, 서귀포, 뉴파라다이스호, 상추자도, 추자도, 하추자도, 추천, 조가비, &, 100, 선, 한국, 관광, 하늬복이, 본태, 국가, 지정, 형제, 어승생, 악, 돈내코, 천지연, 정물, 월정리, 살아있다, 하멜, 상선, 표류기, 남원큰엉, 큰엉, 경승지, 제주러브랜드, 산굼부리, 성산, 용머리, 비양, 4∙3, 천제연, 정방, 돌문화, 김녕, 구역, 모구리, 속, 곳, 엉또, 이호테우, 화순, 사라, 복합, 공간, 플라넷, 각시, 학수, 곶자왈, 황우지, 대포동지삿개, 성읍, 세화, 산방, 삼양, 절물, 마라, 가파, 청보리, 수월, 모세의기적, 서건, 지미, 걸매, 금능, 소정방, 개오리, 성세기, 곽지과물, 조안, 용천, 이상한, 나라의, 엘리스, 유리의, 성, 숙박대전, 추천, 기사, 용눈이, 카멜리아힐, 다희연, 테지움, 더마파크, 다랑쉬, 도순, 성이시돌, 화조원'\n",
        "stop_words = stop_words.replace(' ', '').split(',')"
      ]
    },
    {
      "cell_type": "code",
      "execution_count": null,
      "metadata": {
        "colab": {
          "base_uri": "https://localhost:8080/"
        },
        "id": "OxD0QKYjPJyA",
        "outputId": "dd192026-675b-4340-ce24-8ffbb6946ab0",
        "vscode": {
          "languageId": "python"
        }
      },
      "outputs": [],
      "source": [
        "# 리스트에서 해시태그(#) 문자를 제거\n",
        "poi['explanation'] = poi['explanation'].astype(str).apply(lambda x : ' '.join(i for i in x.split('#')))\n",
        "poi_df = poi\n",
        "result = []\n",
        "\n",
        "# Mecab을 활용해 추가한 사용자 사전에 따라 형태소 분석을 진행하여 반영\n",
        "# 사용자 사전에 추가했으나 제대로 묶이지 않은 것들을 다시 묶어줌\n",
        "# 한 음절로된 형태소를 제거하되, 형태소 중 의미를 가지는 단어들은 제외하지 않는다.\n",
        "\n",
        "for i in range(0,len(poi['explanation'])) :\n",
        "  poi['explanation'][i] = mecab.morphs(poi['explanation'][i])\n",
        "  for j, word in enumerate(poi['explanation'][i]) :\n",
        "    if (word == '나' and poi['explanation'][i][j+1] == '들' and poi['explanation'][i][j+2] == '이') :\n",
        "      poi['explanation'][i][j] = '나들이'\n",
        "      poi['explanation'][i].pop(j+1)\n",
        "      poi['explanation'][i].pop(j+2)\n",
        "    if (word == '피' and poi['explanation'][i][j+1] == '서') :\n",
        "      poi['explanation'][i][j] = '피서'\n",
        "      poi['explanation'][i].pop(j+1)\n",
        "    if (word == '해' and poi['explanation'][i][j+1] == '상') :\n",
        "      poi['explanation'][i][j] = '해상'\n",
        "      poi['explanation'][i].pop(j+1)\n",
        "    if (word == '걷' and poi['explanation'][i][j+1] == '기') :\n",
        "      poi['explanation'][i][j] = '걷기'\n",
        "      poi['explanation'][i].pop(j+1)\n",
        "    if (word == '미' and poi['explanation'][i][j+1] == '로') :\n",
        "      poi['explanation'][i][j] = '미로'\n",
        "      poi['explanation'][i].pop(j+1)\n",
        "    if (word == '도' and poi['explanation'][i][j+1] == '예') :\n",
        "      poi['explanation'][i][j] = '도예'\n",
        "      poi['explanation'][i].pop(j+1)\n",
        "  \n",
        "\n",
        "  for j, word in enumerate(poi['explanation'][i]) :\n",
        "    if (word not in stop_words) :\n",
        "      if (len(word) != 1 or word == '굴' or word =='꽃' or word =='봉' or word == '숲') :\n",
        "        result.append(word)\n",
        "      else :\n",
        "        print(word) #제외되는 한 글자짜리 단어가 어떤 것인지 알기 위해 프린트\n",
        "  poi['explanation'][i] = str(result).strip('[').strip(']')\n",
        "  result = []\n"
      ]
    },
    {
      "cell_type": "code",
      "execution_count": null,
      "metadata": {
        "id": "SnyeedXBQSvB",
        "vscode": {
          "languageId": "python"
        }
      },
      "outputs": [],
      "source": [
        "# TF-IDF Vectorizer 라이브러리 임포트 한후 객체 생성\n",
        "from sklearn.feature_extraction.text import TfidfVectorizer\n",
        "vectorizer = TfidfVectorizer(min_df=1, ngram_range=(1,1))"
      ]
    },
    {
      "cell_type": "code",
      "execution_count": null,
      "metadata": {
        "id": "yyUJjpRBb2xG",
        "vscode": {
          "languageId": "python"
        }
      },
      "outputs": [],
      "source": [
        "# 준비된 데이터로 Fit & Transform\n",
        "features = vectorizer.fit_transform(poi['explanation'])"
      ]
    },
    {
      "cell_type": "code",
      "execution_count": null,
      "metadata": {
        "colab": {
          "base_uri": "https://localhost:8080/"
        },
        "id": "CbenTej1cY2B",
        "outputId": "e0257934-ba8b-46f4-dcf3-5dd78f13c332",
        "vscode": {
          "languageId": "python"
        }
      },
      "outputs": [],
      "source": [
        "feature_names = vectorizer.get_feature_names()"
      ]
    },
    {
      "cell_type": "code",
      "execution_count": null,
      "metadata": {
        "id": "Hgqc9KINYDjE",
        "vscode": {
          "languageId": "python"
        }
      },
      "outputs": [],
      "source": [
        "# DTM 생성\n",
        "import numpy as np\n",
        "dtm_np = np.array(features.todense())"
      ]
    },
    {
      "cell_type": "code",
      "execution_count": null,
      "metadata": {
        "colab": {
          "base_uri": "https://localhost:8080/",
          "height": 424
        },
        "id": "74XC_MKJYo2J",
        "outputId": "f30d1c38-70c4-42c9-803c-5f4276269847",
        "vscode": {
          "languageId": "python"
        }
      },
      "outputs": [],
      "source": [
        "pd.DataFrame(data = dtm_np, columns = feature_names)"
      ]
    },
    {
      "cell_type": "code",
      "execution_count": null,
      "metadata": {
        "id": "RCFVKu-jW0Rs",
        "vscode": {
          "languageId": "python"
        }
      },
      "outputs": [],
      "source": [
        "# 코사인 유사도 구하기\n",
        "from sklearn.metrics.pairwise import cosine_similarity\n",
        "cosine_sim = cosine_similarity(dtm_np, dtm_np)"
      ]
    },
    {
      "cell_type": "code",
      "execution_count": null,
      "metadata": {
        "colab": {
          "base_uri": "https://localhost:8080/"
        },
        "id": "MNKcOEc31g89",
        "outputId": "0d662270-6927-43b5-d847-3c367e289848",
        "vscode": {
          "languageId": "python"
        }
      },
      "outputs": [],
      "source": [
        "# 관광지명 기준 인덱스 설정\n",
        "indices = pd.Series(poi.index, index=poi['poi'])\n",
        "indices"
      ]
    },
    {
      "cell_type": "code",
      "execution_count": null,
      "metadata": {
        "colab": {
          "base_uri": "https://localhost:8080/"
        },
        "id": "HR3lyqoD1tRe",
        "outputId": "680588fd-75b2-4000-caf1-7779db7dae31",
        "vscode": {
          "languageId": "python"
        }
      },
      "outputs": [],
      "source": [
        "# 확인\n",
        "set(poi['explanation'])"
      ]
    },
    {
      "cell_type": "code",
      "execution_count": null,
      "metadata": {
        "id": "fenC3gzl2A9M",
        "vscode": {
          "languageId": "python"
        }
      },
      "outputs": [],
      "source": [
        "# 유사한 관광지 10개를 추천해주기 위한 메소드 작성\n",
        "\n",
        "def get_recommendations(title, cosine_sim=cosine_sim):\n",
        "    # 선택한 POI의 인덱스를 가지고 옵니다.\n",
        "    idx = indices[title]\n",
        "\n",
        "    # 검색한 POI와 모든 POI의 유사도를 구합니다.\n",
        "    sim_scores = list(enumerate(cosine_sim[idx]))\n",
        "\n",
        "    # 유사도가 높은 순으로 POI를 정렬합니다.\n",
        "    sim_scores = sorted(sim_scores, key=lambda x: x[1], reverse=True)\n",
        "\n",
        "    # 가장 유사한 10개의 POI를 가지고 옵니다.\n",
        "    ten_selected = sim_scores[0:10]\n",
        "\n",
        "    for i in range(0, 10):\n",
        "      if (idx == ten_selected[i][0]) :\n",
        "        if (i == 0) :\n",
        "          ten_selected = sim_scores[1:11]\n",
        "        else :\n",
        "          ten_selected = sim_scores[0:i] + sim_scores[i+1:11]\n",
        "    \n",
        "\n",
        "    # 가장 유사한 10개의 POI의 인덱스를 받아옵니다.\n",
        "    poi_indices = [i[0] for i in ten_selected]\n",
        "\n",
        "    # 가장 유사한 10개의 POI의 관광지명을 반환합니다.\n",
        "    return poi['poi'].iloc[poi_indices]"
      ]
    },
    {
      "cell_type": "code",
      "execution_count": null,
      "metadata": {
        "colab": {
          "base_uri": "https://localhost:8080/"
        },
        "id": "hxU6hHVq2SXO",
        "outputId": "e2815c18-cfad-4953-c185-bb0daca9bec4",
        "vscode": {
          "languageId": "python"
        }
      },
      "outputs": [],
      "source": [
        "# 가시오름 기준으로 추천 관광지 10곳 확인\n",
        "get_recommendations('한라산 백록담')\n"
      ]
    }
  ],
  "metadata": {
    "colab": {
      "collapsed_sections": [],
      "name": "Recommendation_sys",
      "provenance": []
    },
    "kernelspec": {
      "display_name": "Python 3",
      "name": "python3"
    }
  },
  "nbformat": 4,
  "nbformat_minor": 0
}
